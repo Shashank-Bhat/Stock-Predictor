{
 "cells": [
  {
   "cell_type": "markdown",
   "metadata": {},
   "source": [
    "## Modelling LSTM\n"
   ]
  },
  {
   "cell_type": "code",
   "execution_count": 25,
   "metadata": {},
   "outputs": [
    {
     "name": "stdout",
     "output_type": "stream",
     "text": [
      "STOCK PREDICTION USING LSTM\n"
     ]
    }
   ],
   "source": [
    "print('STOCK PREDICTION USING LSTM')\n",
    "import numpy as np\n",
    "import pandas as pd\n",
    "from sklearn import preprocessing\n",
    "\n",
    "from keras.models import Sequential\n",
    "from keras.layers.core import Dense, Activation\n",
    "from keras.layers.recurrent import LSTM\n",
    "from keras.layers import  Dropout\n",
    "from keras.models import model_from_json\n",
    "from keras.models import load_model\n",
    "from keras import regularizers\n",
    "\n",
    "import matplotlib.pyplot as plt\n",
    "import matplotlib.ticker as mtick\n",
    "fmt = '$%.0f'\n",
    "tick = mtick.FormatStrFormatter(fmt)\n",
    "import warnings\n",
    "warnings.filterwarnings('ignore')\n",
    "%matplotlib inline"
   ]
  },
  {
   "cell_type": "markdown",
   "metadata": {},
   "source": [
    "### Plotting the data"
   ]
  },
  {
   "cell_type": "code",
   "execution_count": 26,
   "metadata": {},
   "outputs": [
    {
     "data": {
      "text/html": [
       "<div>\n",
       "<style scoped>\n",
       "    .dataframe tbody tr th:only-of-type {\n",
       "        vertical-align: middle;\n",
       "    }\n",
       "\n",
       "    .dataframe tbody tr th {\n",
       "        vertical-align: top;\n",
       "    }\n",
       "\n",
       "    .dataframe thead th {\n",
       "        text-align: right;\n",
       "    }\n",
       "</style>\n",
       "<table border=\"1\" class=\"dataframe\">\n",
       "  <thead>\n",
       "    <tr style=\"text-align: right;\">\n",
       "      <th></th>\n",
       "      <th>Date</th>\n",
       "      <th>compund</th>\n",
       "      <th>neg</th>\n",
       "      <th>neu</th>\n",
       "      <th>pos</th>\n",
       "      <th>Open</th>\n",
       "      <th>High</th>\n",
       "      <th>Low</th>\n",
       "      <th>Close</th>\n",
       "      <th>Volume</th>\n",
       "    </tr>\n",
       "  </thead>\n",
       "  <tbody>\n",
       "    <tr>\n",
       "      <th>0</th>\n",
       "      <td>03-Jan-2011</td>\n",
       "      <td>-0.8934</td>\n",
       "      <td>0.172</td>\n",
       "      <td>0.746</td>\n",
       "      <td>0.082</td>\n",
       "      <td>226.00</td>\n",
       "      <td>227.00</td>\n",
       "      <td>221.50</td>\n",
       "      <td>223.32</td>\n",
       "      <td>646442</td>\n",
       "    </tr>\n",
       "    <tr>\n",
       "      <th>1</th>\n",
       "      <td>04-Jan-2011</td>\n",
       "      <td>-0.6996</td>\n",
       "      <td>0.133</td>\n",
       "      <td>0.806</td>\n",
       "      <td>0.060</td>\n",
       "      <td>223.32</td>\n",
       "      <td>229.50</td>\n",
       "      <td>223.32</td>\n",
       "      <td>227.97</td>\n",
       "      <td>1601540</td>\n",
       "    </tr>\n",
       "    <tr>\n",
       "      <th>2</th>\n",
       "      <td>05-Jan-2011</td>\n",
       "      <td>-0.9442</td>\n",
       "      <td>0.319</td>\n",
       "      <td>0.638</td>\n",
       "      <td>0.044</td>\n",
       "      <td>227.00</td>\n",
       "      <td>232.00</td>\n",
       "      <td>225.60</td>\n",
       "      <td>226.27</td>\n",
       "      <td>2181684</td>\n",
       "    </tr>\n",
       "    <tr>\n",
       "      <th>3</th>\n",
       "      <td>06-Jan-2011</td>\n",
       "      <td>-0.7906</td>\n",
       "      <td>0.179</td>\n",
       "      <td>0.726</td>\n",
       "      <td>0.094</td>\n",
       "      <td>227.00</td>\n",
       "      <td>227.65</td>\n",
       "      <td>224.20</td>\n",
       "      <td>226.16</td>\n",
       "      <td>1034935</td>\n",
       "    </tr>\n",
       "    <tr>\n",
       "      <th>4</th>\n",
       "      <td>07-Jan-2011</td>\n",
       "      <td>-0.5859</td>\n",
       "      <td>0.140</td>\n",
       "      <td>0.766</td>\n",
       "      <td>0.094</td>\n",
       "      <td>227.50</td>\n",
       "      <td>227.99</td>\n",
       "      <td>223.80</td>\n",
       "      <td>225.99</td>\n",
       "      <td>1247251</td>\n",
       "    </tr>\n",
       "  </tbody>\n",
       "</table>\n",
       "</div>"
      ],
      "text/plain": [
       "          Date  compund    neg    neu    pos    Open    High     Low   Close  \\\n",
       "0  03-Jan-2011  -0.8934  0.172  0.746  0.082  226.00  227.00  221.50  223.32   \n",
       "1  04-Jan-2011  -0.6996  0.133  0.806  0.060  223.32  229.50  223.32  227.97   \n",
       "2  05-Jan-2011  -0.9442  0.319  0.638  0.044  227.00  232.00  225.60  226.27   \n",
       "3  06-Jan-2011  -0.7906  0.179  0.726  0.094  227.00  227.65  224.20  226.16   \n",
       "4  07-Jan-2011  -0.5859  0.140  0.766  0.094  227.50  227.99  223.80  225.99   \n",
       "\n",
       "    Volume  \n",
       "0   646442  \n",
       "1  1601540  \n",
       "2  2181684  \n",
       "3  1034935  \n",
       "4  1247251  "
      ]
     },
     "execution_count": 26,
     "metadata": {},
     "output_type": "execute_result"
    }
   ],
   "source": [
    "data_csv = pd.read_csv('News_Data.csv')\n",
    "data_csv.head()"
   ]
  },
  {
   "cell_type": "code",
   "execution_count": 27,
   "metadata": {},
   "outputs": [
    {
     "data": {
      "image/png": "[encoded data removed]",
      "text/plain": [
       "<Figure size 432x288 with 1 Axes>"
      ]
     },
     "metadata": {
      "needs_background": "light"
     },
     "output_type": "display_data"
    },
    {
     "data": {
      "text/plain": [
       "<Figure size 432x288 with 0 Axes>"
      ]
     },
     "metadata": {},
     "output_type": "display_data"
    }
   ],
   "source": [
    "data_csv[['Close']].plot()\n",
    "plt.show()\n",
    "plt.clf()"
   ]
  },
  {
   "cell_type": "markdown",
   "metadata": {},
   "source": [
    "### Calculating the length of data to use"
   ]
  },
  {
   "cell_type": "code",
   "execution_count": 28,
   "metadata": {},
   "outputs": [
    {
     "name": "stdout",
     "output_type": "stream",
     "text": [
      "Total Data Length: 1846\n"
     ]
    }
   ],
   "source": [
    "percentage_of_data = 1.0\n",
    "data_to_use = int(percentage_of_data*(len(data_csv)-1))\n",
    "\n",
    "# 80% of data will be of training\n",
    "train_end = int(data_to_use*0.8)\n",
    "\n",
    "total_data = len(data_csv)\n",
    "print(\"Total Data Length:\", total_data)"
   ]
  },
  {
   "cell_type": "markdown",
   "metadata": {},
   "source": [
    "### Arranging the data"
   ]
  },
  {
   "cell_type": "code",
   "execution_count": 29,
   "metadata": {},
   "outputs": [
    {
     "name": "stdout",
     "output_type": "stream",
     "text": [
      "yt head (close) :\n",
      "1    227.97\n",
      "2    226.27\n",
      "3    226.16\n",
      "4    225.99\n",
      "5    224.44\n",
      "Name: Close, dtype: float64\n"
     ]
    }
   ],
   "source": [
    "start = total_data - data_to_use\n",
    "\n",
    "# Currently doing prediction only for 1 step ahead\n",
    "steps_to_predict = 1\n",
    "\n",
    "#close, compund, neg, neu, pos, open, high, low, volume\n",
    "# Order -> 8,1,2,3,4,5,6,7,9\n",
    "yt = data_csv.iloc[start:total_data,8] #close\n",
    "yt1 = data_csv.iloc[start:total_data,1] #compund\n",
    "yt2 = data_csv.iloc[start:total_data,2] #neg\n",
    "yt3 = data_csv.iloc[start:total_data,3] #neu\n",
    "yt4 = data_csv.iloc[start:total_data,4] #pos\n",
    "yt5 = data_csv.iloc[start:total_data,5] #open\n",
    "yt6 = data_csv.iloc[start:total_data,6] #high\n",
    "yt7 = data_csv.iloc[start:total_data,7] #low\n",
    "vt = data_csv.iloc[start:total_data,9] #volume\n",
    "\n",
    "print(\"yt head (close) :\")\n",
    "print(yt.head())"
   ]
  },
  {
   "cell_type": "markdown",
   "metadata": {},
   "source": [
    "### Shifting the data by 1"
   ]
  },
  {
   "cell_type": "code",
   "execution_count": 30,
   "metadata": {},
   "outputs": [
    {
     "name": "stdout",
     "output_type": "stream",
     "text": [
      "        yt     yt_     yt1    yt1_       vt     yt5     yt6     yt7\n",
      "1   227.97  226.27 -0.6996 -0.9442  1601540  223.32  229.50  223.32\n",
      "2   226.27  226.16 -0.9442 -0.7906  2181684  227.00  232.00  225.60\n",
      "3   226.16  225.99 -0.7906 -0.5859  1034935  227.00  227.65  224.20\n",
      "4   225.99  224.44 -0.5859 -0.9723  1247251  227.50  227.99  223.80\n",
      "5   224.44  228.58 -0.9723 -0.9578   571792  227.50  228.00  223.50\n",
      "6   228.58  238.68 -0.9578 -0.3818  1501995  225.25  229.29  223.61\n",
      "7   238.68  248.46 -0.3818 -0.7184  4938671  229.00  239.85  229.00\n",
      "8   248.46  243.35 -0.7184 -0.8720  3835913  240.00  250.48  238.50\n",
      "9   243.35  244.64 -0.8720 -0.5994  1974180  249.25  250.25  242.10\n",
      "10  244.64  239.77 -0.5994 -0.7506  1800665  245.35  245.35  239.55\n"
     ]
    }
   ],
   "source": [
    "#shift next day close and next day compund\n",
    "yt_ = yt.shift(-1) #shifted close\n",
    "yt1_ = yt1.shift(-1) #shifted compund\n",
    "\n",
    "#taking only: close, next_close, compund, next_compund, volume, open, high, low\n",
    "data = pd.concat([yt, yt_, yt1, yt1_, vt, yt5, yt6, yt7], axis=1)\n",
    "data.columns = ['yt', 'yt_', 'yt1', 'yt1_','vt', 'yt5', 'yt6', 'yt7']\n",
    "\n",
    "data = data.dropna()\n",
    "     \n",
    "print(data[:10])"
   ]
  },
  {
   "cell_type": "markdown",
   "metadata": {},
   "source": [
    "### Separating data into x and y\n",
    "**Approach:** Training the machine using ***compund, close price, and next_compund*** to predict ***next_close price***."
   ]
  },
  {
   "cell_type": "code",
   "execution_count": 31,
   "metadata": {
    "collapsed": true
   },
   "outputs": [],
   "source": [
    "# target variable - closed price\n",
    "# after shifting\n",
    "y = data['yt_'] #next_close\n",
    "\n",
    "# close, compund, next_compund, volume, open, high, low   \n",
    "cols = ['yt', 'yt1', 'yt1_', 'vt', 'yt5', 'yt6', 'yt7']\n",
    "x = data[cols]"
   ]
  },
  {
   "cell_type": "markdown",
   "metadata": {},
   "source": [
    "### Preprocessing"
   ]
  },
  {
   "cell_type": "code",
   "execution_count": 32,
   "metadata": {
    "collapsed": true
   },
   "outputs": [],
   "source": [
    "scaler_x = preprocessing.MinMaxScaler (feature_range=(-1, 1))\n",
    "x = np.array(x).reshape((len(x) ,len(cols)))\n",
    "x = scaler_x.fit_transform(x)\n",
    "\n",
    "scaler_y = preprocessing.MinMaxScaler (feature_range=(-1, 1))\n",
    "y = np.array (y).reshape ((len( y), 1))\n",
    "y = scaler_y.fit_transform (y)"
   ]
  },
  {
   "cell_type": "markdown",
   "metadata": {},
   "source": [
    "### Train Test Split"
   ]
  },
  {
   "cell_type": "code",
   "execution_count": 33,
   "metadata": {
    "collapsed": true
   },
   "outputs": [],
   "source": [
    "X_train = x[0 : train_end,]\n",
    "X_test = x[train_end+1 : len(x),]    \n",
    "y_train = y[0 : train_end] \n",
    "y_test = y[train_end+1 : len(y)]  \n",
    "\n",
    "X_train = X_train.reshape (X_train. shape + (1,)) \n",
    "X_test = X_test.reshape(X_test.shape + (1,))"
   ]
  },
  {
   "cell_type": "markdown",
   "metadata": {},
   "source": [
    "### RNN LSTM Model"
   ]
  },
  {
   "cell_type": "code",
   "execution_count": 34,
   "metadata": {},
   "outputs": [
    {
     "name": "stdout",
     "output_type": "stream",
     "text": [
      "_________________________________________________________________\n",
      "Layer (type)                 Output Shape              Param #   \n",
      "=================================================================\n",
      "lstm_4 (LSTM)                (None, 7, 25)             2700      \n",
      "_________________________________________________________________\n",
      "dropout_4 (Dropout)          (None, 7, 25)             0         \n",
      "_________________________________________________________________\n",
      "lstm_5 (LSTM)                (None, 7, 25)             5100      \n",
      "_________________________________________________________________\n",
      "dropout_5 (Dropout)          (None, 7, 25)             0         \n",
      "_________________________________________________________________\n",
      "lstm_6 (LSTM)                (None, 25)                5100      \n",
      "_________________________________________________________________\n",
      "dropout_6 (Dropout)          (None, 25)                0         \n",
      "_________________________________________________________________\n",
      "dense_2 (Dense)              (None, 1)                 26        \n",
      "_________________________________________________________________\n",
      "activation_2 (Activation)    (None, 1)                 0         \n",
      "=================================================================\n",
      "Total params: 12,926\n",
      "Trainable params: 12,926\n",
      "Non-trainable params: 0\n",
      "_________________________________________________________________\n",
      "None\n",
      "Train on 1180 samples, validate on 296 samples\n",
      "Epoch 1/100\n",
      "1180/1180 [==============================] - 4s 4ms/step - loss: 0.1391 - val_loss: 0.0568\n",
      "Epoch 2/100\n",
      "1180/1180 [==============================] - 1s 856us/step - loss: 0.0523 - val_loss: 0.0659\n",
      "Epoch 3/100\n",
      "1180/1180 [==============================] - 1s 855us/step - loss: 0.0523 - val_loss: 0.0560\n",
      "Epoch 4/100\n",
      "1180/1180 [==============================] - 1s 821us/step - loss: 0.0501 - val_loss: 0.0601\n",
      "Epoch 5/100\n",
      "1180/1180 [==============================] - 1s 885us/step - loss: 0.0501 - val_loss: 0.0627\n",
      "Epoch 6/100\n",
      "1180/1180 [==============================] - 1s 833us/step - loss: 0.0468 - val_loss: 0.0615\n",
      "Epoch 7/100\n",
      "1180/1180 [==============================] - 1s 843us/step - loss: 0.0458 - val_loss: 0.0735\n",
      "Epoch 8/100\n",
      "1180/1180 [==============================] - 1s 835us/step - loss: 0.0434 - val_loss: 0.0502\n",
      "Epoch 9/100\n",
      "1180/1180 [==============================] - 1s 1ms/step - loss: 0.0407 - val_loss: 0.0512\n",
      "Epoch 10/100\n",
      "1180/1180 [==============================] - 1s 905us/step - loss: 0.0363 - val_loss: 0.0434\n",
      "Epoch 11/100\n",
      "1180/1180 [==============================] - 1s 845us/step - loss: 0.0321 - val_loss: 0.0342\n",
      "Epoch 12/100\n",
      "1180/1180 [==============================] - 1s 832us/step - loss: 0.0259 - val_loss: 0.0257\n",
      "Epoch 13/100\n",
      "1180/1180 [==============================] - 1s 843us/step - loss: 0.0196 - val_loss: 0.0201\n",
      "Epoch 14/100\n",
      "1180/1180 [==============================] - 1s 851us/step - loss: 0.0160 - val_loss: 0.0235\n",
      "Epoch 15/100\n",
      "1180/1180 [==============================] - 1s 829us/step - loss: 0.0133 - val_loss: 0.0153\n",
      "Epoch 16/100\n",
      "1180/1180 [==============================] - 1s 881us/step - loss: 0.0129 - val_loss: 0.0092\n",
      "Epoch 17/100\n",
      "1180/1180 [==============================] - 1s 799us/step - loss: 0.0114 - val_loss: 0.0090\n",
      "Epoch 18/100\n",
      "1180/1180 [==============================] - 1s 840us/step - loss: 0.0110 - val_loss: 0.0060\n",
      "Epoch 19/100\n",
      "1180/1180 [==============================] - 1s 846us/step - loss: 0.0101 - val_loss: 0.0122\n",
      "Epoch 20/100\n",
      "1180/1180 [==============================] - 1s 860us/step - loss: 0.0090 - val_loss: 0.0092\n",
      "Epoch 21/100\n",
      "1180/1180 [==============================] - 1s 923us/step - loss: 0.0095 - val_loss: 0.0086\n",
      "Epoch 22/100\n",
      "1180/1180 [==============================] - 1s 916us/step - loss: 0.0079 - val_loss: 0.0054\n",
      "Epoch 23/100\n",
      "1180/1180 [==============================] - 1s 1ms/step - loss: 0.0082 - val_loss: 0.0033\n",
      "Epoch 24/100\n",
      "1180/1180 [==============================] - 1s 916us/step - loss: 0.0076 - val_loss: 0.0034\n",
      "Epoch 25/100\n",
      "1180/1180 [==============================] - 1s 855us/step - loss: 0.0072 - val_loss: 0.0061\n",
      "Epoch 26/100\n",
      "1180/1180 [==============================] - 1s 851us/step - loss: 0.0069 - val_loss: 0.0034\n",
      "Epoch 27/100\n",
      "1180/1180 [==============================] - 1s 888us/step - loss: 0.0067 - val_loss: 0.0056\n",
      "Epoch 28/100\n",
      "1180/1180 [==============================] - 1s 927us/step - loss: 0.0066 - val_loss: 0.0028\n",
      "Epoch 29/100\n",
      "1180/1180 [==============================] - 1s 812us/step - loss: 0.0067 - val_loss: 0.0049\n",
      "Epoch 30/100\n",
      "1180/1180 [==============================] - 1s 806us/step - loss: 0.0066 - val_loss: 0.0034\n",
      "Epoch 31/100\n",
      "1180/1180 [==============================] - 1s 862us/step - loss: 0.0062 - val_loss: 0.0023\n",
      "Epoch 32/100\n",
      "1180/1180 [==============================] - 1s 817us/step - loss: 0.0061 - val_loss: 0.0075\n",
      "Epoch 33/100\n",
      "1180/1180 [==============================] - 1s 850us/step - loss: 0.0061 - val_loss: 0.0044\n",
      "Epoch 34/100\n",
      "1180/1180 [==============================] - 1s 845us/step - loss: 0.0058 - val_loss: 0.0021\n",
      "Epoch 35/100\n",
      "1180/1180 [==============================] - 1s 864us/step - loss: 0.0061 - val_loss: 0.0026\n",
      "Epoch 36/100\n",
      "1180/1180 [==============================] - 1s 836us/step - loss: 0.0060 - val_loss: 0.0031\n",
      "Epoch 37/100\n",
      "1180/1180 [==============================] - 1s 866us/step - loss: 0.0056 - val_loss: 0.0022\n",
      "Epoch 38/100\n",
      "1180/1180 [==============================] - 1s 861us/step - loss: 0.0057 - val_loss: 0.0024\n",
      "Epoch 39/100\n",
      "1180/1180 [==============================] - 1s 844us/step - loss: 0.0059 - val_loss: 0.0018\n",
      "Epoch 40/100\n",
      "1180/1180 [==============================] - 1s 885us/step - loss: 0.0056 - val_loss: 0.0041\n",
      "Epoch 41/100\n",
      "1180/1180 [==============================] - 1s 928us/step - loss: 0.0051 - val_loss: 0.0028\n",
      "Epoch 42/100\n",
      "1180/1180 [==============================] - 1s 952us/step - loss: 0.0055 - val_loss: 0.0039\n",
      "Epoch 43/100\n",
      "1180/1180 [==============================] - 1s 947us/step - loss: 0.0056 - val_loss: 0.0023\n",
      "Epoch 44/100\n",
      "1180/1180 [==============================] - 1s 939us/step - loss: 0.0055 - val_loss: 0.0030\n",
      "Epoch 45/100\n",
      "1180/1180 [==============================] - 1s 947us/step - loss: 0.0053 - val_loss: 0.0033\n",
      "Epoch 46/100\n",
      "1180/1180 [==============================] - 1s 954us/step - loss: 0.0052 - val_loss: 0.0027\n",
      "Epoch 47/100\n",
      "1180/1180 [==============================] - 1s 904us/step - loss: 0.0051 - val_loss: 0.0025\n",
      "Epoch 48/100\n",
      "1180/1180 [==============================] - 1s 857us/step - loss: 0.0051 - val_loss: 0.0019\n",
      "Epoch 49/100\n",
      "1180/1180 [==============================] - 1s 928us/step - loss: 0.0049 - val_loss: 0.0023\n",
      "Epoch 50/100\n",
      "1180/1180 [==============================] - 1s 934us/step - loss: 0.0052 - val_loss: 0.0020\n",
      "Epoch 51/100\n",
      "1180/1180 [==============================] - 1s 875us/step - loss: 0.0053 - val_loss: 0.0066\n",
      "Epoch 52/100\n",
      "1180/1180 [==============================] - 1s 933us/step - loss: 0.0050 - val_loss: 0.0035\n",
      "Epoch 53/100\n",
      "1180/1180 [==============================] - 1s 936us/step - loss: 0.0054 - val_loss: 0.0025\n",
      "Epoch 54/100\n",
      "1180/1180 [==============================] - 1s 938us/step - loss: 0.0049 - val_loss: 0.0026\n",
      "Epoch 55/100\n",
      "1180/1180 [==============================] - 1s 967us/step - loss: 0.0051 - val_loss: 0.0028\n",
      "Epoch 56/100\n",
      "1180/1180 [==============================] - 1s 866us/step - loss: 0.0051 - val_loss: 0.0034\n",
      "Epoch 57/100\n",
      "1180/1180 [==============================] - 1s 861us/step - loss: 0.0051 - val_loss: 0.0021\n",
      "Epoch 58/100\n",
      "1180/1180 [==============================] - 1s 957us/step - loss: 0.0052 - val_loss: 0.0027\n",
      "Epoch 59/100\n",
      "1180/1180 [==============================] - 1s 882us/step - loss: 0.0047 - val_loss: 0.0034\n",
      "Epoch 60/100\n",
      "1180/1180 [==============================] - 1s 965us/step - loss: 0.0049 - val_loss: 0.0024\n",
      "Epoch 61/100\n",
      "1180/1180 [==============================] - 1s 914us/step - loss: 0.0046 - val_loss: 0.0027\n",
      "Epoch 62/100\n",
      "1180/1180 [==============================] - 1s 936us/step - loss: 0.0051 - val_loss: 0.0019\n",
      "Epoch 63/100\n",
      "1180/1180 [==============================] - 1s 852us/step - loss: 0.0051 - val_loss: 0.0027\n",
      "Epoch 64/100\n",
      "1180/1180 [==============================] - 1s 914us/step - loss: 0.0048 - val_loss: 0.0027\n"
     ]
    },
    {
     "name": "stdout",
     "output_type": "stream",
     "text": [
      "Epoch 65/100\n",
      "1180/1180 [==============================] - 1s 864us/step - loss: 0.0049 - val_loss: 0.0023\n",
      "Epoch 66/100\n",
      "1180/1180 [==============================] - 1s 787us/step - loss: 0.0047 - val_loss: 0.0032\n",
      "Epoch 67/100\n",
      "1180/1180 [==============================] - 1s 857us/step - loss: 0.0047 - val_loss: 0.0021\n",
      "Epoch 68/100\n",
      "1180/1180 [==============================] - 1s 857us/step - loss: 0.0050 - val_loss: 0.0023\n",
      "Epoch 69/100\n",
      "1180/1180 [==============================] - 1s 883us/step - loss: 0.0045 - val_loss: 0.0019\n",
      "Epoch 70/100\n",
      "1180/1180 [==============================] - 1s 764us/step - loss: 0.0044 - val_loss: 0.0024\n",
      "Epoch 71/100\n",
      "1180/1180 [==============================] - 1s 905us/step - loss: 0.0048 - val_loss: 0.0035\n",
      "Epoch 72/100\n",
      "1180/1180 [==============================] - 1s 898us/step - loss: 0.0047 - val_loss: 0.0022\n",
      "Epoch 73/100\n",
      "1180/1180 [==============================] - 1s 926us/step - loss: 0.0045 - val_loss: 0.0022\n",
      "Epoch 74/100\n",
      "1180/1180 [==============================] - 1s 907us/step - loss: 0.0045 - val_loss: 0.0018\n",
      "Epoch 75/100\n",
      "1180/1180 [==============================] - 1s 945us/step - loss: 0.0047 - val_loss: 0.0020\n",
      "Epoch 76/100\n",
      "1180/1180 [==============================] - 1s 920us/step - loss: 0.0045 - val_loss: 0.0019\n",
      "Epoch 77/100\n",
      "1180/1180 [==============================] - 1s 927us/step - loss: 0.0044 - val_loss: 0.0028\n",
      "Epoch 78/100\n",
      "1180/1180 [==============================] - 1s 905us/step - loss: 0.0047 - val_loss: 0.0021\n",
      "Epoch 79/100\n",
      "1180/1180 [==============================] - 1s 924us/step - loss: 0.0045 - val_loss: 0.0020\n",
      "Epoch 80/100\n",
      "1180/1180 [==============================] - 1s 879us/step - loss: 0.0045 - val_loss: 0.0022\n",
      "Epoch 81/100\n",
      "1180/1180 [==============================] - 1s 927us/step - loss: 0.0044 - val_loss: 0.0023\n",
      "Epoch 82/100\n",
      "1180/1180 [==============================] - 1s 868us/step - loss: 0.0041 - val_loss: 0.0022\n",
      "Epoch 83/100\n",
      "1180/1180 [==============================] - 1s 863us/step - loss: 0.0042 - val_loss: 0.0021\n",
      "Epoch 84/100\n",
      "1180/1180 [==============================] - 1s 891us/step - loss: 0.0046 - val_loss: 0.0028\n",
      "Epoch 85/100\n",
      "1180/1180 [==============================] - 1s 911us/step - loss: 0.0047 - val_loss: 0.0020\n",
      "Epoch 86/100\n",
      "1180/1180 [==============================] - 1s 818us/step - loss: 0.0045 - val_loss: 0.0022\n",
      "Epoch 87/100\n",
      "1180/1180 [==============================] - 1s 779us/step - loss: 0.0044 - val_loss: 0.0024\n",
      "Epoch 88/100\n",
      "1180/1180 [==============================] - 1s 911us/step - loss: 0.0042 - val_loss: 0.0034\n",
      "Epoch 89/100\n",
      "1180/1180 [==============================] - 1s 863us/step - loss: 0.0044 - val_loss: 0.0024\n",
      "Epoch 90/100\n",
      "1180/1180 [==============================] - 1s 835us/step - loss: 0.0045 - val_loss: 0.0023\n",
      "Epoch 91/100\n",
      "1180/1180 [==============================] - 1s 836us/step - loss: 0.0045 - val_loss: 0.0034\n",
      "Epoch 92/100\n",
      "1180/1180 [==============================] - 1s 854us/step - loss: 0.0042 - val_loss: 0.0023\n",
      "Epoch 93/100\n",
      "1180/1180 [==============================] - 1s 835us/step - loss: 0.0041 - val_loss: 0.0032\n",
      "Epoch 94/100\n",
      "1180/1180 [==============================] - 1s 821us/step - loss: 0.0045 - val_loss: 0.0024\n",
      "Epoch 95/100\n",
      "1180/1180 [==============================] - 1s 872us/step - loss: 0.0044 - val_loss: 0.0029\n",
      "Epoch 96/100\n",
      "1180/1180 [==============================] - 1s 873us/step - loss: 0.0041 - val_loss: 0.0030\n",
      "Epoch 97/100\n",
      "1180/1180 [==============================] - 1s 899us/step - loss: 0.0042 - val_loss: 0.0025\n",
      "Epoch 98/100\n",
      "1180/1180 [==============================] - 1s 912us/step - loss: 0.0043 - val_loss: 0.0024\n",
      "Epoch 99/100\n",
      "1180/1180 [==============================] - 1s 912us/step - loss: 0.0041 - val_loss: 0.0023\n",
      "Epoch 100/100\n",
      "1180/1180 [==============================] - 1s 915us/step - loss: 0.0042 - val_loss: 0.0021\n"
     ]
    },
    {
     "data": {
      "text/plain": [
       "<keras.callbacks.History at 0x128561e10>"
      ]
     },
     "execution_count": 34,
     "metadata": {},
     "output_type": "execute_result"
    }
   ],
   "source": [
    "batch_size = 32\n",
    "nb_epoch = 100\n",
    "neurons = 25\n",
    "dropout = 0.1\n",
    "\n",
    "seed = 2016\n",
    "np.random.seed(seed)\n",
    "\n",
    "model = Sequential ()\n",
    "model.add(LSTM(neurons, return_sequences=True, activation='tanh', inner_activation='hard_sigmoid', input_shape=(len(cols), 1)))\n",
    "model.add(Dropout(dropout))\n",
    "model.add(LSTM(neurons, return_sequences=True,  activation='tanh'))\n",
    "model.add(Dropout(dropout))\n",
    "model.add(LSTM(neurons, activation='tanh'))\n",
    "model.add(Dropout(dropout))\n",
    "\n",
    "model.add(Dense(activity_regularizer=regularizers.l1(0.00001), output_dim=1, activation='linear'))\n",
    "model.add(Activation('tanh'))\n",
    "\n",
    "print(model.summary())\n",
    "\n",
    "model.compile(loss='mean_squared_error' , optimizer='RMSprop')\n",
    "model.fit(X_train, y_train, batch_size=batch_size, nb_epoch=nb_epoch, verbose=1, validation_split=0.2)\n"
   ]
  },
  {
   "cell_type": "markdown",
   "metadata": {},
   "source": [
    "### Score Calculation"
   ]
  },
  {
   "cell_type": "code",
   "execution_count": 35,
   "metadata": {},
   "outputs": [
    {
     "name": "stdout",
     "output_type": "stream",
     "text": [
      "1476/1476 [==============================] - 8s 5ms/step\n",
      "367/367 [==============================] - 2s 5ms/step\n",
      "In train MSE =  0.0024\n",
      "In test MSE =  0.00275342355090613\n"
     ]
    }
   ],
   "source": [
    "score_train = model.evaluate(X_train, y_train, batch_size =1)\n",
    "score_test = model.evaluate(X_test, y_test, batch_size =1)\n",
    "print(\"In train MSE = \", round( score_train ,4)) \n",
    "print(\"In test MSE = \", score_test )"
   ]
  },
  {
   "cell_type": "markdown",
   "metadata": {},
   "source": [
    "### Saving model"
   ]
  },
  {
   "cell_type": "code",
   "execution_count": 36,
   "metadata": {},
   "outputs": [
    {
     "name": "stdout",
     "output_type": "stream",
     "text": [
      "Saved model to disk\n"
     ]
    }
   ],
   "source": [
    "model_json = model.to_json()\n",
    "with open(\"model_rms100e_new.json\", \"w\") as json_file:\n",
    "    json_file.write(model_json)\n",
    "# serialize weights to HDF5\n",
    "model.save_weights(\"Saved_Model.h5\")\n",
    "print(\"Saved model to disk\")"
   ]
  },
  {
   "cell_type": "markdown",
   "metadata": {},
   "source": [
    "### Predicting on unseen data"
   ]
  },
  {
   "cell_type": "code",
   "execution_count": 37,
   "metadata": {},
   "outputs": [
    {
     "name": "stdout",
     "output_type": "stream",
     "text": [
      "Inputs: (None, 7, 1)\n",
      "Outputs: (None, 1)\n",
      "Actual input: (367, 7, 1)\n",
      "Actual output: (367, 1)\n",
      "prediction data:\n",
      "[219.3167]\n",
      "actual data\n",
      "[[240.21     0.7351  -0.9849 ... 240.42   247.     234.5   ]\n",
      " [237.43    -0.9849  -0.3784 ... 241.     242.99   236.8   ]\n",
      " [233.46    -0.3784  -0.9716 ... 236.     237.88   232.62  ]\n",
      " ...\n",
      " [208.94    -0.8853  -0.9939 ... 206.     209.8    204.6   ]\n",
      " [212.82    -0.9939  -0.6908 ... 207.44   213.85   207.    ]\n",
      " [214.85    -0.6908   0.9178 ... 211.5    216.     210.5   ]]\n"
     ]
    },
    {
     "data": {
      "image/png": "[encoded data removed]",
      "text/plain": [
       "<Figure size 432x288 with 1 Axes>"
      ]
     },
     "metadata": {
      "needs_background": "light"
     },
     "output_type": "display_data"
    },
    {
     "data": {
      "text/plain": [
       "<Figure size 432x288 with 0 Axes>"
      ]
     },
     "metadata": {},
     "output_type": "display_data"
    }
   ],
   "source": [
    "pred = model.predict(X_test) \n",
    "pred = scaler_y.inverse_transform(np.array(pred).reshape((len(pred), 1)))\n",
    "\n",
    "prediction_data = pred[-1]     \n",
    "\n",
    "print (\"Inputs: {}\".format(model.input_shape))\n",
    "print (\"Outputs: {}\".format(model.output_shape))\n",
    "print (\"Actual input: {}\".format(X_test.shape))\n",
    "print (\"Actual output: {}\".format(y_test.shape))\n",
    "\n",
    "print (\"prediction data:\")\n",
    "print (prediction_data)\n",
    "\n",
    "print (\"actual data\")\n",
    "X_test = scaler_x.inverse_transform(np.array(X_test).reshape((len(X_test), len(cols))))\n",
    "print (X_test)\n",
    "\n",
    "#########################################################################\n",
    "'''Plotting'''\n",
    "plt.plot(pred, label=\"predictions\")\n",
    "\n",
    "y_test = scaler_y.inverse_transform(np.array(y_test).reshape((len( y_test), 1)))\n",
    "plt.plot([row[0] for row in y_test], label=\"actual\")\n",
    "\n",
    "plt.legend(loc='upper center', bbox_to_anchor=(0.5, -0.05), fancybox=True, shadow=True, ncol=2)\n",
    "\n",
    "ax = plt.axes()\n",
    "ax.yaxis.set_major_formatter(tick)\n",
    "plt.show()\n",
    "plt.clf()\n"
   ]
  },
  {
   "cell_type": "code",
   "execution_count": null,
   "metadata": {
    "collapsed": true
   },
   "outputs": [],
   "source": []
  },
  {
   "cell_type": "code",
   "execution_count": null,
   "metadata": {
    "collapsed": true
   },
   "outputs": [],
   "source": []
  },
  {
   "cell_type": "code",
   "execution_count": null,
   "metadata": {
    "collapsed": true
   },
   "outputs": [],
   "source": []
  }
 ],
 "metadata": {
  "kernelspec": {
   "display_name": "Python 3",
   "language": "python",
   "name": "python3"
  },
  "language_info": {
   "codemirror_mode": {
    "name": "ipython",
    "version": 3
   },
   "file_extension": ".py",
   "mimetype": "text/x-python",
   "name": "python",
   "nbconvert_exporter": "python",
   "pygments_lexer": "ipython3",
   "version": "3.6.4"
  }
 },
 "nbformat": 4,
 "nbformat_minor": 2
}
